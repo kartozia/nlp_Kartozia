{
 "cells": [
  {
   "cell_type": "code",
   "execution_count": 1,
   "metadata": {
    "collapsed": true
   },
   "outputs": [],
   "source": [
    "import pandas as pd\n",
    "import nltk\n",
    "from nltk.collocations import *\n",
    "from scipy.stats import spearmanr"
   ]
  },
  {
   "cell_type": "code",
   "execution_count": 53,
   "metadata": {
    "collapsed": true
   },
   "outputs": [],
   "source": [
    "df = pd.read_csv('hw_data.csv', header=None) # corpus\n",
    "#newdf = df[df.columns[1:5]]\n",
    "rows = list(map(list,df.values)) # list of rows in corpus"
   ]
  },
  {
   "cell_type": "markdown",
   "metadata": {},
   "source": [
    "### Объем корпуса"
   ]
  },
  {
   "cell_type": "code",
   "execution_count": 80,
   "metadata": {},
   "outputs": [
    {
     "data": {
      "text/plain": [
       "1020"
      ]
     },
     "execution_count": 80,
     "metadata": {},
     "output_type": "execute_result"
    }
   ],
   "source": [
    "len(rows)"
   ]
  },
  {
   "cell_type": "markdown",
   "metadata": {},
   "source": [
    "### Объем корпуса в токенах"
   ]
  },
  {
   "cell_type": "code",
   "execution_count": 85,
   "metadata": {},
   "outputs": [
    {
     "data": {
      "text/plain": [
       "5100"
      ]
     },
     "execution_count": 85,
     "metadata": {},
     "output_type": "execute_result"
    }
   ],
   "source": [
    "tokens = sum([len(t) for t in rows])\n",
    "tokens"
   ]
  },
  {
   "cell_type": "code",
   "execution_count": 156,
   "metadata": {
    "collapsed": true
   },
   "outputs": [],
   "source": [
    "bigram_measures = nltk.collocations.BigramAssocMeasures()\n",
    "finder = BigramCollocationFinder.from_documents(rows)\n",
    "finder.apply_freq_filter(5)"
   ]
  },
  {
   "cell_type": "markdown",
   "metadata": {},
   "source": [
    "### Золотой стандарт"
   ]
  },
  {
   "cell_type": "code",
   "execution_count": 124,
   "metadata": {
    "collapsed": true
   },
   "outputs": [],
   "source": [
    "golden_standard = [\n",
    "    ('ОСВОБОДИТЬ', 'ЗАЛОГ'),\n",
    "    ('МЕРА', 'ПРЕСЕЧЕНИЕ'),\n",
    "    ('ПРИНЯТЬ', 'РЕШЕНИЕ'),\n",
    "    ('УДОВЛЕТВОРИТЬ', 'ИСК'),\n",
    "    ('ПРИЗНАТЬ', 'ВИНОВНАЯ'),\n",
    "    ('ВЫНЕСТИ', 'РЕШЕНИЕ'),\n",
    "    ('ОТКАЗАТЬ', 'УДОВЛЕТВОРЕНИЕ'),\n",
    "    ('НАЛОЖИТЬ', 'АРЕСТ'),\n",
    "    ('ОТКЛОНИТЬ', 'ИСК'),\n",
    "    ('УДОВЛЕТВОРИТЬ', 'ХОДАТАЙСТВО')]"
   ]
  },
  {
   "cell_type": "markdown",
   "metadata": {},
   "source": [
    "### Likelihood Ratio"
   ]
  },
  {
   "cell_type": "markdown",
   "metadata": {},
   "source": [
    "### Chi-square Top-10"
   ]
  },
  {
   "cell_type": "code",
   "execution_count": 159,
   "metadata": {
    "scrolled": true
   },
   "outputs": [
    {
     "data": {
      "text/plain": [
       "[('ОСВОБОДИТЬ ', 'ЗАЛОГ '),\n",
       " ('МЕРА ', 'ПРЕСЕЧЕНИЕ '),\n",
       " ('ЛИШЕНИЕ ', 'СВОБОДА '),\n",
       " ('ПРОЙТИ ', 'ПРЕНИЕ '),\n",
       " ('ВЫДАТЬ ', 'САНКЦИЯ '),\n",
       " ('ИЗБРАТЬ ', 'МЕРА '),\n",
       " ('САНКЦИЯ ', 'АРЕСТ '),\n",
       " ('ОСТАВИТЬ ', 'СИЛА '),\n",
       " ('НАЛОЖИТЬ ', 'АРЕСТ '),\n",
       " ('УДОВЛЕТВОРИТЬ ', 'ХОДАТАЙСТВО ')]"
      ]
     },
     "execution_count": 159,
     "metadata": {},
     "output_type": "execute_result"
    }
   ],
   "source": [
    "chi_score = finder.score_ngrams(bigram_measures.chi_sq)\n",
    "chi = [x[0] for i,x in enumerate(chi_score[:10])]\n",
    "chi"
   ]
  },
  {
   "cell_type": "markdown",
   "metadata": {},
   "source": [
    "### В ЗС не вошли:\n",
    "- ('ПРОЙТИ ', 'ПРЕНИЕ '),\n",
    "- ('ВЫДАТЬ ', 'САНКЦИЯ '),\n",
    "- ('ИЗБРАТЬ ', 'МЕРА '),\n",
    "- ('ЛИШЕНИЕ ', 'СВОБОДА ')\n",
    "- ('САНКЦИЯ ', 'АРЕСТ '),\n",
    "- ('ОСТАВИТЬ ', 'СИЛА ')"
   ]
  },
  {
   "cell_type": "markdown",
   "metadata": {},
   "source": [
    "### В ЗС можно было бы включить:\n",
    "- ('ИЗБРАТЬ ', 'МЕРА ')"
   ]
  },
  {
   "cell_type": "markdown",
   "metadata": {},
   "source": [
    "### PMI"
   ]
  },
  {
   "cell_type": "code",
   "execution_count": 160,
   "metadata": {
    "scrolled": true
   },
   "outputs": [],
   "source": [
    "#pmi = finder.nbest(bigram_measures.pmi, 10)\n",
    "pmi_score = finder.score_ngrams(bigram_measures.pmi)\n",
    "pmi = [x[0] for i,x in enumerate(pmi_score[:10])]"
   ]
  },
  {
   "cell_type": "markdown",
   "metadata": {},
   "source": [
    "### PMI Top-10"
   ]
  },
  {
   "cell_type": "code",
   "execution_count": 165,
   "metadata": {
    "scrolled": true
   },
   "outputs": [
    {
     "data": {
      "text/plain": [
       "[('ОСВОБОДИТЬ ', 'ЗАЛОГ '),\n",
       " ('ЛИШЕНИЕ ', 'СВОБОДА '),\n",
       " ('ПРОЙТИ ', 'ПРЕНИЕ '),\n",
       " ('МЕРА ', 'ПРЕСЕЧЕНИЕ '),\n",
       " ('ИЗБРАТЬ ', 'МЕРА '),\n",
       " ('ВЫДАТЬ ', 'САНКЦИЯ '),\n",
       " ('ОСТАВИТЬ ', 'СИЛА '),\n",
       " ('АРЕСТОВАТЬ ', 'АКЦИЯ '),\n",
       " ('СОГЛАСИТЬСЯ ', 'ДОВОД '),\n",
       " ('НАЧАТЬСЯ ', 'РАССМОТРЕНИЕ ')]"
      ]
     },
     "execution_count": 165,
     "metadata": {},
     "output_type": "execute_result"
    }
   ],
   "source": [
    "pmi"
   ]
  },
  {
   "cell_type": "markdown",
   "metadata": {},
   "source": [
    "### В ЗС не попали:\n",
    "- ('ЛИШЕНИЕ ', 'СВОБОДА ')\n",
    "- ('ПРОЙТИ ', 'ПРЕНИЕ ')\n",
    "- ('ИЗБРАТЬ ', 'МЕРА ')\n",
    "- ('ВЫДАТЬ ', 'САНКЦИЯ '),\n",
    "- ('ОСТАВИТЬ ', 'СИЛА '),\n",
    "- ('АРЕСТОВАТЬ ', 'АКЦИЯ '),\n",
    "- ('СОГЛАСИТЬСЯ ', 'ДОВОД '),\n",
    "- ('НАЧАТЬСЯ ', 'РАССМОТРЕНИЕ ')\n"
   ]
  },
  {
   "cell_type": "markdown",
   "metadata": {},
   "source": [
    "### В ЗС можно было бы включить:\n",
    "- ('НАЧАТЬСЯ ', 'РАССМОТРЕНИЕ ')\n",
    "- ('ИЗБРАТЬ ', 'МЕРА ')\n",
    "- ('ЛИШЕНИЕ ', 'СВОБОДА ')"
   ]
  },
  {
   "cell_type": "markdown",
   "metadata": {},
   "source": [
    "### Корреляция между результатами двух метрик"
   ]
  },
  {
   "cell_type": "code",
   "execution_count": 162,
   "metadata": {
    "scrolled": true
   },
   "outputs": [
    {
     "name": "stdout",
     "output_type": "stream",
     "text": [
      "0.8\n"
     ]
    }
   ],
   "source": [
    "print('%0.1f' % spearman_correlation(ranks_from_sequence(chi), ranks_from_sequence(pmi)))"
   ]
  },
  {
   "cell_type": "markdown",
   "metadata": {},
   "source": [
    "### PMI и ЗС"
   ]
  },
  {
   "cell_type": "code",
   "execution_count": 163,
   "metadata": {
    "scrolled": true
   },
   "outputs": [
    {
     "data": {
      "text/plain": [
       "0.0"
      ]
     },
     "execution_count": 163,
     "metadata": {},
     "output_type": "execute_result"
    }
   ],
   "source": [
    "spearman_correlation(ranks_from_sequence(golden_standard), ranks_from_sequence(pmi))"
   ]
  },
  {
   "cell_type": "markdown",
   "metadata": {},
   "source": [
    "### Chi и ЗС"
   ]
  },
  {
   "cell_type": "code",
   "execution_count": 164,
   "metadata": {},
   "outputs": [
    {
     "data": {
      "text/plain": [
       "0.0"
      ]
     },
     "execution_count": 164,
     "metadata": {},
     "output_type": "execute_result"
    }
   ],
   "source": [
    "spearman_correlation(ranks_from_sequence(golden_standard), ranks_from_sequence(chi))"
   ]
  },
  {
   "cell_type": "markdown",
   "metadata": {},
   "source": [
    "#### Очень странно и кажется, что всё очень плохо!"
   ]
  }
 ],
 "metadata": {
  "kernelspec": {
   "display_name": "Python 3",
   "language": "python",
   "name": "python3"
  },
  "language_info": {
   "codemirror_mode": {
    "name": "ipython",
    "version": 3
   },
   "file_extension": ".py",
   "mimetype": "text/x-python",
   "name": "python",
   "nbconvert_exporter": "python",
   "pygments_lexer": "ipython3",
   "version": "3.6.3"
  }
 },
 "nbformat": 4,
 "nbformat_minor": 1
}
