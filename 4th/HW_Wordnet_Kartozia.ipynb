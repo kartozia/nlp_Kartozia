{
 "cells": [
  {
   "cell_type": "code",
   "execution_count": 1,
   "metadata": {},
   "outputs": [],
   "source": [
    "from nltk.corpus import wordnet"
   ]
  },
  {
   "cell_type": "markdown",
   "metadata": {},
   "source": [
    "<b>1) Найти все значения (синсеты) для лексемы nail<b>"
   ]
  },
  {
   "cell_type": "code",
   "execution_count": 19,
   "metadata": {},
   "outputs": [
    {
     "name": "stdout",
     "output_type": "stream",
     "text": [
      "Synset('nail.n.01') horny plate covering and protecting part of the dorsal surface of the digits\n",
      "Synset('nail.n.02') a thin pointed piece of metal that is hammered into materials as a fastener\n",
      "Synset('nail.n.03') a former unit of length for cloth equal to 1/16 of a yard\n",
      "Synset('nail.v.01') attach something somewhere by means of nails\n",
      "Synset('collar.v.01') take into custody\n",
      "Synset('smash.v.01') hit hard\n",
      "Synset('nail_down.v.01') succeed in obtaining a position\n",
      "Synset('breeze_through.v.01') succeed at easily\n",
      "Synset('pinpoint.v.01') locate exactly\n",
      "Synset('complete.v.04') complete a pass\n"
     ]
    }
   ],
   "source": [
    "nail = wordnet.synsets('nail')\n",
    "for ss in nail:\n",
    "    print(ss, ss.definition())"
   ]
  },
  {
   "cell_type": "markdown",
   "metadata": {},
   "source": [
    "<b>2) Найти определение для лексемы nail в значении (а) \"ноготь\" и в значении (b) \"гвоздь\"</b>"
   ]
  },
  {
   "cell_type": "code",
   "execution_count": 20,
   "metadata": {},
   "outputs": [
    {
     "name": "stdout",
     "output_type": "stream",
     "text": [
      "Synset('nail.n.01') horny plate covering and protecting part of the dorsal surface of the digits\n",
      "Synset('nail.n.02') a thin pointed piece of metal that is hammered into materials as a fastener\n"
     ]
    }
   ],
   "source": [
    "print(nail[0], nail[0].definition())\n",
    "print(nail[1], nail[1].definition())"
   ]
  },
  {
   "cell_type": "markdown",
   "metadata": {},
   "source": [
    "<b>3) Найдите два произвольных контекста для слова nail в значениях (a) \"ноготь\" и (b) \"гвоздь\"; продемонстрируйте на них действие алгоритма Леска для разрешения неоднозначности</b>"
   ]
  },
  {
   "cell_type": "code",
   "execution_count": 21,
   "metadata": {},
   "outputs": [
    {
     "name": "stdout",
     "output_type": "stream",
     "text": [
      "['She', 'went', 'to', 'beauty', 'salon', 'to', 'paint', 'her', 'nails']\n",
      "['She', 'hangs', 'a', 'new', 'painting', 'with', 'a', 'nail']\n"
     ]
    }
   ],
   "source": [
    "sent1 = 'She went to beauty salon to paint her nails.'\n",
    "sent2 = 'She hangs a new painting with a nail.'\n",
    "sent1_tokens = [word.strip('.,') for word in sent1.split(' ')]\n",
    "sent2_tokens = [word.strip('.,') for word in sent2.split(' ')]\n",
    "print(sent1_tokens)\n",
    "print(sent2_tokens)"
   ]
  },
  {
   "cell_type": "code",
   "execution_count": 22,
   "metadata": {},
   "outputs": [
    {
     "name": "stdout",
     "output_type": "stream",
     "text": [
      "attach something somewhere by means of nails\n",
      "succeed in obtaining a position\n"
     ]
    }
   ],
   "source": [
    "from nltk.wsd import lesk\n",
    "print(lesk(sent1_tokens, 'nail').definition())\n",
    "print(lesk(sent2_tokens, 'nail').definition())"
   ]
  },
  {
   "cell_type": "markdown",
   "metadata": {},
   "source": [
    "Алгоритм Леска ошибся в обоих случаях. Более того, он ошибся даже с частью речи. Попробуем ограничить часть речи существительными."
   ]
  },
  {
   "cell_type": "code",
   "execution_count": 23,
   "metadata": {},
   "outputs": [
    {
     "name": "stdout",
     "output_type": "stream",
     "text": [
      "a former unit of length for cloth equal to 1/16 of a yard\n",
      "a former unit of length for cloth equal to 1/16 of a yard\n"
     ]
    }
   ],
   "source": [
    "print(lesk(sent1_tokens, 'nail', 'n').definition())\n",
    "print(lesk(sent2_tokens, 'nail', 'n').definition())"
   ]
  },
  {
   "cell_type": "markdown",
   "metadata": {},
   "source": [
    "Не помогло :("
   ]
  },
  {
   "cell_type": "markdown",
   "metadata": {},
   "source": [
    "<b>4) Найдите гиперонимы для значения (a) и гиперонимы для значения (b)</b>"
   ]
  },
  {
   "cell_type": "code",
   "execution_count": 26,
   "metadata": {},
   "outputs": [
    {
     "name": "stdout",
     "output_type": "stream",
     "text": [
      "Synset('horny_structure.n.01') any rigid body structure composed primarily of keratin\n",
      "Synset('fastener.n.02') restraint that attaches to something or holds something in place\n"
     ]
    }
   ],
   "source": [
    "for ss in nail[0].hypernyms():\n",
    "    print(ss, ss.definition())\n",
    "for ss in nail[1].hypernyms():\n",
    "    print(ss, ss.definition())"
   ]
  },
  {
   "cell_type": "markdown",
   "metadata": {},
   "source": [
    "<b>5) Вычислите наименьшее расстояние между значением nail \"ноготь\" и значениями лексемы finger, а также nail \"гвоздь\" и значениями лексемы hammer.\n",
    "Найти min (d(nail: \"ноготь\", finger), d(nail: \"ноготь\", hammer)), а также min (d(nail: \"гвоздь\", finger), d(nail: \"гвоздь\", hammer))</b>"
   ]
  },
  {
   "cell_type": "code",
   "execution_count": 27,
   "metadata": {},
   "outputs": [
    {
     "name": "stdout",
     "output_type": "stream",
     "text": [
      "min d(plant: \"ноготь\", finger): 6\n",
      "closest lemma definition: any of the terminal members of the hand (sometimes excepting the thumb)\n",
      "\n",
      "min d(plant: \"ноготь\", hammer): 10\n",
      "closest lemma definition: the ossicle attached to the eardrum\n",
      "\n",
      "min d(plant: \"гвоздь\", finger): 7\n",
      "closest lemma definition: one of the parts of a glove that provides covering for a finger or thumb\n",
      "\n",
      "min d(plant: \"гвоздь\", hammer): 6\n",
      "closest lemma definition: a power tool for drilling rocks\n",
      "\n",
      "min (d(plant: \"ноготь\", finger), d(plant: \"ноготь\", hammer)): 6\n",
      "min (d(plant: \"гвоздь\", finger), d(plant: \"гвоздь\", hammer)): 6\n"
     ]
    }
   ],
   "source": [
    "finger = wordnet.synsets('finger')\n",
    "hammer = wordnet.synsets('hammer')\n",
    "\n",
    "def get_dist_sim(ss1, lexeme):\n",
    "    distances = []\n",
    "    similarities = []\n",
    "    for ss2 in lexeme:\n",
    "        dist = ss1.shortest_path_distance(ss2)\n",
    "        if dist is not None:\n",
    "            distances.append(dist)\n",
    "            sim = ss1.path_similarity(ss2)\n",
    "            similarities.append(sim)\n",
    "    return distances, similarities\n",
    "\n",
    "# min d(plant: \"ноготь\", finger)\n",
    "dist1 = get_dist_sim(plant[0], finger)[0]\n",
    "print('min d(plant: \"ноготь\", finger): {}'.format(min(dist1)))\n",
    "print('closest lemma definition: {}\\n'.format(finger[dist1.index(min(dist1))].definition()))\n",
    "# Правда, здесь выводится только одно ближайшее значение. Их может быть несколько.\n",
    "\n",
    "# min d(plant: \"ноготь\", hammer)\n",
    "dist2 = get_dist_sim(plant[0], hammer)[0]\n",
    "print('min d(plant: \"ноготь\", hammer): {}'.format(min(dist2)))\n",
    "print('closest lemma definition: {}\\n'.format(hammer[dist2.index(min(dist2))].definition()))\n",
    "\n",
    "# min d(plant: \"гвоздь\", finger)\n",
    "dist3 = get_dist_sim(plant[1], finger)[0]\n",
    "print('min d(plant: \"гвоздь\", finger): {}'.format(min(dist3)))\n",
    "print('closest lemma definition: {}\\n'.format(finger[dist3.index(min(dist3))].definition()))\n",
    "\n",
    "# min d(plant: \"гвоздь\", hammer)\n",
    "dist4 = get_dist_sim(plant[1], hammer)[0]\n",
    "print('min d(plant: \"гвоздь\", hammer): {}'.format(min(dist4)))\n",
    "print('closest lemma definition: {}\\n'.format(hammer[dist4.index(min(dist4))].definition()))\n",
    "\n",
    "print('min (d(plant: \"ноготь\", finger), d(plant: \"ноготь\", hammer)): {}'.format(min(min(dist1), min(dist2))))\n",
    "print('min (d(plant: \"гвоздь\", finger), d(plant: \"гвоздь\", hammer)): {}'.format(min(min(dist3), min(dist4))))"
   ]
  },
  {
   "cell_type": "markdown",
   "metadata": {},
   "source": [
    "Кратчайшее расстояние от ногтя до finger - 6, до hammer - 10. Получается, что до finger расстояние короче, что логично.\n",
    "Кратчайшее расстояние от гвоздя до finger - 7, до hammer - 6. До hammer расстояние короче, что ожидаемо. Неожиданно — близкое расстояние от гвоздя до finger.\n",
    "\n",
    "Если имелось в виду посчитать не расстояние, а сходство путей на основе кратчайшего расстояния (минимальный путь --> максимальное сходство), вот оно:"
   ]
  },
  {
   "cell_type": "code",
   "execution_count": 28,
   "metadata": {},
   "outputs": [
    {
     "name": "stdout",
     "output_type": "stream",
     "text": [
      "max s(nail: \"ноготь\", finger): 0.14285714285714285\n",
      "closest lemma definition: any of the terminal members of the hand (sometimes excepting the thumb)\n",
      "\n",
      "max s(nail: \"ноготь\", hammer): 0.09090909090909091\n",
      "closest lemma definition: the ossicle attached to the eardrum\n",
      "\n",
      "max s(nail: \"гвоздь\", finger): 0.0625\n",
      "closest lemma definition: one of the parts of a glove that provides covering for a finger or thumb\n",
      "\n",
      "max s(nail: \"гвоздь\", hammer): 0.14285714285714285\n",
      "closest lemma definition: a power tool for drilling rocks\n",
      "\n",
      "max (s(nail: \"ноготь\", finger), s(nail: \"ноготь\", hammer)): 0.14285714285714285\n",
      "max (s(nail: \"гвоздь\", finger), s(nail: \"гвоздь\", hammer)): 0.14285714285714285\n"
     ]
    }
   ],
   "source": [
    "# max s(nail: \"ноготь\", finger)\n",
    "sim1 = get_dist_sim(nail[0], finger)[1]\n",
    "print('max s(nail: \"ноготь\", finger): {}'.format(max(sim1)))\n",
    "print('closest lemma definition: {}\\n'.format(finger[sim1.index(max(sim1))].definition()))\n",
    "# Правда, здесь выводится только одно ближайшее значение. Их может быть несколько.\n",
    "\n",
    "# max s(nail: \"ноготь\", hammer)\n",
    "sim2 = get_dist_sim(nail[0], hammer)[1]\n",
    "print('max s(nail: \"ноготь\", hammer): {}'.format(max(sim2)))\n",
    "print('closest lemma definition: {}\\n'.format(hammer[sim2.index(max(sim2))].definition()))\n",
    "\n",
    "# max s(nail: \"гвоздь\", finger)\n",
    "sim3 = get_dist_sim(nail[1], finger)[1]\n",
    "print('max s(nail: \"гвоздь\", finger): {}'.format(min(sim3)))\n",
    "print('closest lemma definition: {}\\n'.format(finger[sim3.index(max(sim3))].definition()))\n",
    "\n",
    "# max s(nail: \"гвоздь\", hammer)\n",
    "sim4 = get_dist_sim(nail[1], hammer)[1]\n",
    "print('max s(nail: \"гвоздь\", hammer): {}'.format(max(sim4)))\n",
    "print('closest lemma definition: {}\\n'.format(hammer[sim4.index(max(sim4))].definition()))\n",
    "\n",
    "print('max (s(nail: \"ноготь\", finger), s(nail: \"ноготь\", hammer)): {}'.format(max(max(sim1), max(sim2))))\n",
    "print('max (s(nail: \"гвоздь\", finger), s(nail: \"гвоздь\", hammer)): {}'.format(max(max(sim3), max(sim4))))"
   ]
  },
  {
   "cell_type": "markdown",
   "metadata": {},
   "source": [
    "Результат тот же (что ожидаемо, потому что используется фактически одна и та же мера). \n",
    "\n",
    "<b>6) Вычислить двумя разными способами расстояние:\n",
    "d(nail: \"гвоздь\", Galvanized) и d(organism, whole)\n",
    "Есть ли разница в расстояниях? Какое из расстояний, по Вашему мнению, в лучшей степени отражает интуитивное представление о семантчиеской близости слов?</b>\n",
    "\n",
    "А вот здесь же точно речь идет о сходстве/близости значений, а не о стандартном расстоянии? (Потому что стандартное расстояние - кратчайший путь - трудно считать несколькими способами.)"
   ]
  },
  {
   "cell_type": "code",
   "execution_count": 36,
   "metadata": {},
   "outputs": [
    {
     "name": "stdout",
     "output_type": "stream",
     "text": [
      "Synset('helix.n.01') a curve that lies on the surface of a cylinder or cone and cuts the element at a constant angle\n",
      "Synset('coil.n.01') a structure consisting of something wound in a continuous series of loops\n",
      "Synset('helix.n.03') type genus of the family Helicidae\n"
     ]
    }
   ],
   "source": [
    "helix = wordnet.synsets(\"helix\")\n",
    "for ss in master:\n",
    "    print(ss, ss.definition())"
   ]
  },
  {
   "cell_type": "markdown",
   "metadata": {},
   "source": [
    "Посчитаем близость с помощью критериев Path Similarity, Leacock-Chodorow Similarity, Wu-Palmer Similarity, Resnik Similarity, Jiang-Conrath Similarity и Lin Similarity. Для последних трех будем использовать Information Content корпуса Brown."
   ]
  },
  {
   "cell_type": "code",
   "execution_count": 37,
   "metadata": {},
   "outputs": [
    {
     "name": "stdout",
     "output_type": "stream",
     "text": [
      "0.0625\n",
      "0.8649974374866046\n",
      "0.11764705882352941\n",
      "-0.0\n",
      "0.042816924205233774\n",
      "-0.0\n"
     ]
    }
   ],
   "source": [
    "from nltk.corpus import wordnet_ic\n",
    "ic = wordnet_ic.ic('ic-brown.dat')\n",
    "\n",
    "print(nail[1].path_similarity(helix[0]))\n",
    "\n",
    "#Leacock-Chodorow Similarity\n",
    "print(nail[1].lch_similarity(helix[0]))\n",
    "\n",
    "#Wu-Palmer Similarity\n",
    "print(nail[1].wup_similarity(helix[0]))\n",
    "    \n",
    "#Resnik Similarity\n",
    "print(nail[1].res_similarity(helix[0], ic))\n",
    "    \n",
    "#Jiang-Conrath Similarity\n",
    "print(nail[1].jcn_similarity(helix[0], ic))\n",
    "    \n",
    "#Lin Similarity\n",
    "print(nail[1].lin_similarity(helix[0], ic))\n"
   ]
  },
  {
   "cell_type": "code",
   "execution_count": 38,
   "metadata": {},
   "outputs": [
    {
     "name": "stdout",
     "output_type": "stream",
     "text": [
      "Synset('organism.n.01') a living thing that has (or can develop) the ability to act or function independently\n",
      "Synset('organism.n.01') []\n",
      "Synset('organism.n.02') a system considered analogous in structure or function to a living body\n",
      "Synset('organism.n.02') ['the social organism']\n"
     ]
    }
   ],
   "source": [
    "organism = wordnet.synsets('organism')\n",
    "for ss in organism:\n",
    "    print(ss, ss.definition())\n",
    "    print(ss, ss.examples())"
   ]
  },
  {
   "cell_type": "code",
   "execution_count": 39,
   "metadata": {},
   "outputs": [
    {
     "name": "stdout",
     "output_type": "stream",
     "text": [
      "Synset('whole.n.01') all of something including all its component elements or parts\n",
      "Synset('whole.n.01') ['Europe considered as a whole', 'the whole of American literature']\n",
      "Synset('whole.n.02') an assemblage of parts that is regarded as a single entity\n",
      "Synset('whole.n.02') ['how big is that part compared to the whole?', 'the team is a unit']\n"
     ]
    }
   ],
   "source": [
    "whole = wordnet.synsets('whole', 'n')\n",
    "for ss in whole:\n",
    "    print(ss, ss.definition())\n",
    "    print(ss, ss.examples())"
   ]
  },
  {
   "cell_type": "code",
   "execution_count": 40,
   "metadata": {},
   "outputs": [
    {
     "name": "stdout",
     "output_type": "stream",
     "text": [
      "a living thing that has (or can develop) the ability to act or function independently\n",
      "all of something including all its component elements or parts\n",
      "0.07692307692307693\n",
      "1.072636802264849\n",
      "0.14285714285714285\n",
      "-0.0\n",
      "0.11927453545173074\n",
      "-0.0\n",
      "an assemblage of parts that is regarded as a single entity\n",
      "0.3333333333333333\n",
      "2.538973871058276\n",
      "0.8\n",
      "1.5318337432196856\n",
      "1.4444255924181877\n",
      "0.8156763478002892\n",
      "a system considered analogous in structure or function to a living body\n",
      "all of something including all its component elements or parts\n",
      "0.1\n",
      "1.3350010667323402\n",
      "0.3076923076923077\n",
      "0.5962292078977726\n",
      "0.05928363701403374\n",
      "0.0660256991738309\n",
      "an assemblage of parts that is regarded as a single entity\n",
      "0.125\n",
      "1.55814461804655\n",
      "0.2222222222222222\n",
      "-0.0\n",
      "0.07444639262208605\n",
      "-0.0\n"
     ]
    }
   ],
   "source": [
    "for ss1 in organism:\n",
    "    print(ss1.definition())\n",
    "    for ss2 in whole:\n",
    "        print(ss2.definition())\n",
    "        print(ss1.path_similarity(ss2))\n",
    "\n",
    "        #Leacock-Chodorow Similarity\n",
    "        print(ss1.lch_similarity(ss2))\n",
    "\n",
    "        #Wu-Palmer Similarity\n",
    "        print(ss1.wup_similarity(ss2))\n",
    "\n",
    "        #Resnik Similarity\n",
    "        print(ss1.res_similarity(ss2, ic))\n",
    "\n",
    "        #Jiang-Conrath Similarity\n",
    "        print(ss1.jcn_similarity(ss2, ic))\n",
    "\n",
    "        #Lin Similarity\n",
    "        print(ss1.lin_similarity(ss2, ic))"
   ]
  },
  {
   "cell_type": "markdown",
   "metadata": {},
   "source": [
    "<style type=\"text/css\">\n",
    "\ttable.tableizer-table {\n",
    "\t\tfont-size: 12px;\n",
    "\t\tborder: 1px solid #CCC; \n",
    "\t\tfont-family: Arial, Helvetica, sans-serif;\n",
    "\t} \n",
    "\t.tableizer-table td {\n",
    "\t\tpadding: 4px;\n",
    "\t\tmargin: 3px;\n",
    "\t\tborder: 1px solid #CCC;\n",
    "\t}\n",
    "\t.tableizer-table th {\n",
    "\t\tbackground-color: #104E8B; \n",
    "\t\tcolor: #FFF;\n",
    "\t\tfont-weight: bold;\n",
    "\t}\n",
    "</style>\n",
    "<table class=\"tableizer-table\">\n",
    "<thead><tr class=\"tableizer-firstrow\"><th>Similarity Index</th><th>гвоздь/helix</th><th>a living thing / all of something</th><th>a living thing / an assemblage</th><th>a system / all of something</th><th>a system / an assemblage</th></tr></thead><tbody>\n",
    " <tr><td>Path Similarity</td><td>0.0625</td><td>0.07692307692</td><td>0.3333333333</td><td>0.1</td><td>0.125</td></tr>\n",
    " <tr><td>Leacock-Chodorow Similarity</td><td>0.8649974374866046</td><td>1.072636802</td><td>2.538973871</td><td>1.335001067</td><td>1.558144618</td></tr>\n",
    " <tr><td>Wu-Palmer Similarity</td><td>0.11764705882352941</td><td>0.1428571429</td><td>0.8</td><td>0.3076923077</td><td>0.2222222222</td></tr>\n",
    " <tr><td>Resnik Similarity</td><td>0</td><td>0</td><td>1.531833743</td><td>0.5962292079</td><td>0</td></tr>\n",
    " <tr><td>Jiang-Conrath Similarity</td><td>0.042816924205233774</td><td>0.1192745355</td><td>1.444425592</td><td>0.05928363701</td><td>0.07444639262</td></tr>\n",
    " <tr><td>Lin Similarity</td><td>0</td><td>0</td><td>0.8156763478</td><td>0.06602569917</td><td>0</td></tr>\n",
    "</tbody></table>\n"
   ]
  },
  {
   "cell_type": "markdown",
   "metadata": {},
   "source": [
    "Helix просто является гипонимом гвоздя. Как его сравнивать с organism/whole не совсем понятно, потому что во втором случае нет таких прямых отношений. Leacock-Chodorow Similarity индекс показывает самый высокий показатель схожести.\n",
    "\n",
    "По Resnik и Lin индексам схожесть между гвоздь/helix нулевая. Непонятно, говорит ли это о полной несхожести значений или это специфика индекса/корпуса/данных.\n",
    "\n",
    "А вообще, значения индексов в основном довольно маленькие. Не совсем понятно, насколько целесообразно сравнение сотых и тысячных долей.\n",
    "\n",
    "Если учитывать всё сразу, первые три индекса более или менее отражают интуитивное представление о близости слов."
   ]
  }
 ],
 "metadata": {
  "kernelspec": {
   "display_name": "Python 3",
   "language": "python",
   "name": "python3"
  },
  "language_info": {
   "codemirror_mode": {
    "name": "ipython",
    "version": 3
   },
   "file_extension": ".py",
   "mimetype": "text/x-python",
   "name": "python",
   "nbconvert_exporter": "python",
   "pygments_lexer": "ipython3",
   "version": "3.6.3"
  }
 },
 "nbformat": 4,
 "nbformat_minor": 1
}
